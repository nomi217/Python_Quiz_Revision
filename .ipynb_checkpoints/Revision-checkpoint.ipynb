{
 "cells": [
  {
   "cell_type": "code",
   "execution_count": null,
   "metadata": {},
   "outputs": [],
   "source": [
    "name='Nauman'\n",
    "class=9am\n",
    "if name=='Nauman':\n",
    "    print('PIAIC Islamabad Batch 3')\n",
    "    if class='9am':\n",
    "        print(class 1)\n",
    "    elif class='12pm':\n",
    "        print(class 2)"
   ]
  },
  {
   "cell_type": "code",
   "execution_count": 6,
   "metadata": {},
   "outputs": [
    {
     "name": "stdout",
     "output_type": "stream",
     "text": [
      "Enter Marks: 85\n",
      "Grade B\n"
     ]
    }
   ],
   "source": [
    "n=int(input('Enter Marks: '))\n",
    "if n==90:\n",
    "    print('Grade A')\n",
    "elif n>=80 and n<90:\n",
    "    print('Grade B')\n",
    "elif n>=70 and n<80:\n",
    "    print('Grade C')\n",
    "elif n>=60 and n<60:\n",
    "    print('Grade D')\n",
    "elif n<60:\n",
    "    print('Grade E')\n",
    "else:\n",
    "    print('Fail')"
   ]
  },
  {
   "cell_type": "code",
   "execution_count": 6,
   "metadata": {},
   "outputs": [
    {
     "name": "stdout",
     "output_type": "stream",
     "text": [
      "Enter Day: sunday\n",
      "Scratch True/False: true\n",
      "Enter Time: 9pm\n",
      "You Can't Afford the DVD\n"
     ]
    }
   ],
   "source": [
    "day=input('Enter Day: ')\n",
    "scratch=input('Scratch True/False: ')\n",
    "time=input('Enter Time: ')\n",
    "cost=1.59\n",
    "if day=='Monday' or day=='Tuesday' or day=='Wednesday' or day=='Friday' or day=='Saturday':\n",
    "    if time=='8pm':\n",
    "        if scratch=='true':\n",
    "            cost=cost+1\n",
    "            print('Your Cost is: ',cost)\n",
    "#elif day=='Sunday':\n",
    "#    cost=cost*0.3\n",
    "#    print('Your cost is ',cost)\n",
    "#    if scratch=='true':\n",
    "#        cost=cost+2\n",
    "#        print('Your Cost is ',cost)\n",
    "#    else:\n",
    "#        print('Your cost is',cost)\n",
    "else:\n",
    "    print(\"You Can't Afford the DVD\")"
   ]
  },
  {
   "cell_type": "code",
   "execution_count": 7,
   "metadata": {},
   "outputs": [
    {
     "name": "stdout",
     "output_type": "stream",
     "text": [
      "2\n",
      "6\n",
      "10\n",
      "14\n",
      "18\n"
     ]
    }
   ],
   "source": [
    "for i in range(1,10,2):\n",
    "    print(str(i*2))\n",
    "    "
   ]
  },
  {
   "cell_type": "code",
   "execution_count": 10,
   "metadata": {},
   "outputs": [
    {
     "name": "stdout",
     "output_type": "stream",
     "text": [
      "0 1 2 /n\n",
      "0 2 4 /n\n",
      "0 3 6 /n\n",
      "0 4 8 /n\n"
     ]
    }
   ],
   "source": [
    "for i in range(1,5):\n",
    "    for j in range(0,3):\n",
    "        print(str(i*j),end=' ')\n",
    "    print('/n')"
   ]
  },
  {
   "cell_type": "code",
   "execution_count": 15,
   "metadata": {},
   "outputs": [
    {
     "name": "stdout",
     "output_type": "stream",
     "text": [
      "0\n"
     ]
    },
    {
     "ename": "TypeError",
     "evalue": "'list' object is not callable",
     "output_type": "error",
     "traceback": [
      "\u001b[1;31m---------------------------------------------------------------------------\u001b[0m",
      "\u001b[1;31mTypeError\u001b[0m                                 Traceback (most recent call last)",
      "\u001b[1;32m<ipython-input-15-49574d025c52>\u001b[0m in \u001b[0;36m<module>\u001b[1;34m\u001b[0m\n\u001b[0;32m      4\u001b[0m     \u001b[0mprint\u001b[0m\u001b[1;33m(\u001b[0m\u001b[0mlist\u001b[0m\u001b[1;33m[\u001b[0m\u001b[0mindex\u001b[0m\u001b[1;33m]\u001b[0m\u001b[1;33m)\u001b[0m\u001b[1;33m\u001b[0m\u001b[1;33m\u001b[0m\u001b[0m\n\u001b[0;32m      5\u001b[0m \u001b[1;33m\u001b[0m\u001b[0m\n\u001b[1;32m----> 6\u001b[1;33m     \u001b[1;32mif\u001b[0m \u001b[0mlist\u001b[0m\u001b[1;33m(\u001b[0m\u001b[0mindex\u001b[0m\u001b[1;33m)\u001b[0m\u001b[1;33m==\u001b[0m\u001b[1;36m6\u001b[0m\u001b[1;33m:\u001b[0m\u001b[1;33m\u001b[0m\u001b[1;33m\u001b[0m\u001b[0m\n\u001b[0m\u001b[0;32m      7\u001b[0m         \u001b[1;32mbreak\u001b[0m\u001b[1;33m\u001b[0m\u001b[1;33m\u001b[0m\u001b[0m\n\u001b[0;32m      8\u001b[0m     \u001b[1;32melse\u001b[0m\u001b[1;33m:\u001b[0m\u001b[1;33m\u001b[0m\u001b[1;33m\u001b[0m\u001b[0m\n",
      "\u001b[1;31mTypeError\u001b[0m: 'list' object is not callable"
     ]
    }
   ],
   "source": [
    "list=[0,1,2,3,4,5,6,7,8,9]\n",
    "index=0\n",
    "while(index<10):\n",
    "    print(list[index])\n",
    "    \n",
    "    if list(index)==6:\n",
    "        break\n",
    "    else:\n",
    "        index+=1"
   ]
  },
  {
   "cell_type": "code",
   "execution_count": null,
   "metadata": {},
   "outputs": [],
   "source": [
    "l=[]\n"
   ]
  }
 ],
 "metadata": {
  "kernelspec": {
   "display_name": "Python 3",
   "language": "python",
   "name": "python3"
  },
  "language_info": {
   "codemirror_mode": {
    "name": "ipython",
    "version": 3
   },
   "file_extension": ".py",
   "mimetype": "text/x-python",
   "name": "python",
   "nbconvert_exporter": "python",
   "pygments_lexer": "ipython3",
   "version": "3.7.3"
  }
 },
 "nbformat": 4,
 "nbformat_minor": 2
}
